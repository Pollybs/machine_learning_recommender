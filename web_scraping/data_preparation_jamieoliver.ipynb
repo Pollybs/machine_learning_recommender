{
 "cells": [
  {
   "cell_type": "code",
   "execution_count": 1,
   "metadata": {},
   "outputs": [],
   "source": [
    "import pandas as pd"
   ]
  },
  {
   "cell_type": "code",
   "execution_count": 2,
   "metadata": {},
   "outputs": [],
   "source": [
    "v1 = pd.read_csv(\"jamie_oliver_recipe_data_batch_1.csv\")\n",
    "v2 = pd.read_csv(\"jamie_oliver_recipe_data_batch_2.csv\")\n",
    "v3 = pd.read_csv(\"jamie_oliver_recipe_data_batch_3.csv\")\n",
    "v4 = pd.read_csv(\"jamie_oliver_recipe_data_batch_4.csv\")\n",
    "v5 = pd.read_csv(\"jamie_oliver_recipe_data_batch_5.csv\")\n",
    "v6 = pd.read_csv(\"jamie_oliver_recipe_data_batch_6.csv\")\n",
    "v7 = pd.read_csv(\"jamie_oliver_recipe_data_batch_7.csv\")\n",
    "v8 = pd.read_csv(\"jamie_oliver_recipe_data_batch_8.csv\")\n",
    "v9 = pd.read_csv(\"jamie_oliver_recipe_data_batch_9.csv\")\n",
    "v10 = pd.read_csv(\"jamie_oliver_recipe_data_batch_10.csv\")\n",
    "v11 = pd.read_csv(\"jamie_oliver_recipe_data_batch_11.csv\")\n",
    "v12 = pd.read_csv(\"jamie_oliver_recipe_data_batch_12.csv\")\n",
    "v13 = pd.read_csv(\"jamie_oliver_recipe_data_batch_13.csv\")\n",
    "v14 = pd.read_csv(\"jamie_oliver_recipe_data_batch_14.csv\")\n",
    "v15 = pd.read_csv(\"jamie_oliver_recipe_data_batch_15.csv\")\n",
    "\n",
    "\n"
   ]
  },
  {
   "cell_type": "code",
   "execution_count": 3,
   "metadata": {},
   "outputs": [],
   "source": [
    "jamie_oliver_data = pd.concat([v1, v2, v3, v4, v5, v5, v7, v8, v9, v10, v12, v13, v14, v15], axis=0, ignore_index=True)"
   ]
  },
  {
   "cell_type": "code",
   "execution_count": 4,
   "metadata": {},
   "outputs": [
    {
     "name": "stdout",
     "output_type": "stream",
     "text": [
      "(51, 11)\n",
      "(101, 11)\n",
      "(151, 11)\n",
      "(201, 11)\n",
      "(251, 11)\n",
      "(251, 11)\n",
      "(351, 11)\n",
      "(401, 11)\n",
      "(451, 11)\n",
      "(501, 11)\n"
     ]
    }
   ],
   "source": [
    "dfs = [v1, v2, v3, v4, v5, v5, v7, v8, v9, v10]\n",
    "for df in dfs:\n",
    "    print(df.shape)"
   ]
  },
  {
   "cell_type": "code",
   "execution_count": 5,
   "metadata": {},
   "outputs": [
    {
     "name": "stdout",
     "output_type": "stream",
     "text": [
      "(5377, 11)\n"
     ]
    }
   ],
   "source": [
    "print(jamie_oliver_data.shape)"
   ]
  },
  {
   "cell_type": "code",
   "execution_count": 7,
   "metadata": {},
   "outputs": [
    {
     "name": "stdout",
     "output_type": "stream",
     "text": [
      "(714, 11)\n",
      "0\n",
      "(714, 11)\n"
     ]
    }
   ],
   "source": [
    "print(jamie_oliver_data.shape)\n",
    "print(jamie_oliver_data.duplicated().sum())\n",
    "jamie_oliver_data.drop_duplicates(inplace=True)\n",
    "print(jamie_oliver_data.shape)"
   ]
  },
  {
   "cell_type": "code",
   "execution_count": 8,
   "metadata": {},
   "outputs": [],
   "source": [
    "jamie_oliver_data.to_csv(\"jamie_oliver_data.csv\", index=False)"
   ]
  }
 ],
 "metadata": {
  "kernelspec": {
   "display_name": "Python 3",
   "language": "python",
   "name": "python3"
  },
  "language_info": {
   "codemirror_mode": {
    "name": "ipython",
    "version": 3
   },
   "file_extension": ".py",
   "mimetype": "text/x-python",
   "name": "python",
   "nbconvert_exporter": "python",
   "pygments_lexer": "ipython3",
   "version": "3.9.5"
  }
 },
 "nbformat": 4,
 "nbformat_minor": 2
}
