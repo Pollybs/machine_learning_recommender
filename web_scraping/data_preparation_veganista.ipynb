{
 "cells": [
  {
   "cell_type": "code",
   "execution_count": 2,
   "metadata": {},
   "outputs": [],
   "source": [
    "import pandas as pd"
   ]
  },
  {
   "cell_type": "code",
   "execution_count": 4,
   "metadata": {},
   "outputs": [],
   "source": [
    "v1 = pd.read_csv(\"simple_veganista_recipe_data_batch_1.csv\")\n",
    "v2 = pd.read_csv(\"simple_veganista_recipe_data_batch_2.csv\")\n",
    "v3 = pd.read_csv(\"simple_veganista_recipe_data_batch_3.csv\")\n",
    "v4 = pd.read_csv(\"simple_veganista_recipe_data_batch_4.csv\")\n",
    "v5 = pd.read_csv(\"simple_veganista_recipe_data_batch_5.csv\")\n",
    "v6 = pd.read_csv(\"simple_veganista_recipe_data_batch_6.csv\")\n",
    "v7 = pd.read_csv(\"simple_veganista_recipe_data_batch_7.csv\")\n",
    "v8 = pd.read_csv(\"simple_veganista_recipe_data_batch_8.csv\")\n",
    "v9 = pd.read_csv(\"simple_veganista_recipe_data_batch_9.csv\")\n",
    "v10 = pd.read_csv(\"simple_veganista_recipe_data_batch_10.csv\")\n",
    "\n"
   ]
  },
  {
   "cell_type": "code",
   "execution_count": 11,
   "metadata": {},
   "outputs": [],
   "source": [
    "simple_veganista_data = pd.concat([v1, v2, v3, v4, v5, v5, v7, v8, v9, v10], axis=0, ignore_index=True)"
   ]
  },
  {
   "cell_type": "code",
   "execution_count": 13,
   "metadata": {},
   "outputs": [
    {
     "name": "stdout",
     "output_type": "stream",
     "text": [
      "(46, 10)\n",
      "(96, 10)\n",
      "(146, 10)\n",
      "(196, 10)\n",
      "(246, 10)\n",
      "(246, 10)\n",
      "(346, 10)\n",
      "(396, 10)\n",
      "(446, 10)\n",
      "(485, 10)\n"
     ]
    }
   ],
   "source": [
    "dfs = [v1, v2, v3, v4, v5, v5, v7, v8, v9, v10]\n",
    "for df in dfs:\n",
    "    print(df.shape)"
   ]
  },
  {
   "cell_type": "code",
   "execution_count": 14,
   "metadata": {},
   "outputs": [
    {
     "name": "stdout",
     "output_type": "stream",
     "text": [
      "(2649, 10)\n"
     ]
    }
   ],
   "source": [
    "print(simple_veganista_data.shape)"
   ]
  },
  {
   "cell_type": "code",
   "execution_count": 15,
   "metadata": {},
   "outputs": [
    {
     "name": "stdout",
     "output_type": "stream",
     "text": [
      "(2649, 10)\n",
      "2164\n"
     ]
    }
   ],
   "source": [
    "print(simple_veganista_data.shape)\n",
    "print(simple_veganista_data.duplicated().sum())\n",
    "simple_veganista_data.drop_duplicates(inplace=True)"
   ]
  },
  {
   "cell_type": "code",
   "execution_count": 18,
   "metadata": {},
   "outputs": [],
   "source": [
    "simple_veganista_data.to_csv(\"simple_veganista_data.csv\", index=False)"
   ]
  }
 ],
 "metadata": {
  "kernelspec": {
   "display_name": "Python 3",
   "language": "python",
   "name": "python3"
  },
  "language_info": {
   "codemirror_mode": {
    "name": "ipython",
    "version": 3
   },
   "file_extension": ".py",
   "mimetype": "text/x-python",
   "name": "python",
   "nbconvert_exporter": "python",
   "pygments_lexer": "ipython3",
   "version": "3.9.5"
  }
 },
 "nbformat": 4,
 "nbformat_minor": 2
}
